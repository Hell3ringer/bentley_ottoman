{
  "nbformat": 4,
  "nbformat_minor": 0,
  "metadata": {
    "colab": {
      "name": "graph_plot.ipynb",
      "provenance": [],
      "collapsed_sections": []
    },
    "kernelspec": {
      "name": "python3",
      "display_name": "Python 3"
    },
    "language_info": {
      "name": "python"
    }
  },
  "cells": [
    {
      "cell_type": "code",
      "execution_count": 8,
      "metadata": {
        "id": "VIhXhxEBzv39"
      },
      "outputs": [],
      "source": [
        "from bokeh.plotting import figure, output_file, show\n",
        "output_file(\"plot.html\") #output file\n",
        "\n",
        "graph = figure(title = \"Bokeh Segment Graph\")\n",
        "\n",
        "# name of the x-axis\n",
        "graph.xaxis.axis_label = \"x-axis\"\n",
        "\t\n",
        "# name of the y-axis\n",
        "graph.yaxis.axis_label = \"y-axis\"\n",
        "\n",
        "# points to be plotted\n",
        "x0 = [0, 2 ,3 ,0 ,0]\n",
        "y0 = [1,0,0,2,2]\n",
        "x1 = [1,3,0,2,2]\n",
        "y1 = [0,4,4,2,2]\n",
        "\n",
        "# plotting the graph\n",
        "graph.segment(x0, y0,\n",
        "\t\t\tx1, y1,\n",
        "\t\t\t\t\t\t\n",
        "\t\t\t)\n",
        "\t\n",
        "\n",
        "show(graph)\n"
      ]
    },
    {
      "cell_type": "code",
      "source": [
        ""
      ],
      "metadata": {
        "id": "aJAW3tDbM3QS"
      },
      "execution_count": null,
      "outputs": []
    }
  ]
}